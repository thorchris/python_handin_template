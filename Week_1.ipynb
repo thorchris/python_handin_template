{
 "cells": [
  {
   "cell_type": "markdown",
   "metadata": {},
   "source": [
    "# Week 1 handin"
   ]
  },
  {
   "cell_type": "markdown",
   "metadata": {},
   "source": [
    "## 01 Assignment\n",
    "\n",
    "#### Create 5 list comprehensions to solve the following 5 problems:\n",
    "\n",
    "A - Iterate a list of names to return a list of the names starting with H\n",
    "\n",
    "B - In one line create a list of the numbers 1-100 to the power of 3\n",
    "\n",
    "C -Iterate a list of names to create a list of tuples where the tuples first value is the length of the name and the second is the name\n",
    "\n",
    "D - Iterate over each character in a string and get only those that are nummeric\n",
    "\n",
    "E - Using only a list comprehension wrapped in set() get all possible combination from throwing 2 dice (hint use 2 for loops in a single list comprehension)\n",
    "\n",
    "#### Create 2 dictionary comprehensions to solve the following:\n",
    "\n",
    "A - Iterate a list of names and create a dictionary where key is the name and value is the length of the name\n",
    "\n",
    "B - Iterate a list of numbers and create a dictionary with {key:value} being {number:squareroot_of_number}\n",
    "\n",
    "\n",
    "#### Extra assignment (This one goes beyond what is covered in the course notebooks. So only do it if you want an extra challenge).\n",
    "\n",
    "Progammatically using loops create a small program to produce a dictionary with all the 2 dice throw combinations as keys and their likelyhood in percent as values"
   ]
  },
  {
   "cell_type": "markdown",
   "metadata": {},
   "source": [
    "## 02 Status\n",
    "I'm done with all the mandatory exercises, havent done exercise 3 yet."
   ]
  },
  {
   "cell_type": "code",
   "execution_count": 1,
   "metadata": {},
   "outputs": [],
   "source": [
    "import numpy as np\n",
    "import math"
   ]
  },
  {
   "cell_type": "markdown",
   "metadata": {},
   "source": [
    "## Exercise 1 "
   ]
  },
  {
   "cell_type": "markdown",
   "metadata": {},
   "source": [
    "### A"
   ]
  },
  {
   "cell_type": "code",
   "execution_count": 4,
   "metadata": {},
   "outputs": [
    {
     "data": {
      "text/plain": [
       "['Hans', 'Hanne']"
      ]
     },
     "execution_count": 4,
     "metadata": {},
     "output_type": "execute_result"
    }
   ],
   "source": [
    "names = list([\"Hans\",\"Jørgen\",\"Lars\",\"Per\",\"Hanne\", \"Alex\"])\n",
    "\n",
    "new_names = [x for x in names if x.startswith(\"H\")] \n",
    "new_names"
   ]
  },
  {
   "cell_type": "markdown",
   "metadata": {},
   "source": [
    "### B"
   ]
  },
  {
   "cell_type": "code",
   "execution_count": 5,
   "metadata": {},
   "outputs": [
    {
     "data": {
      "text/plain": [
       "array([     1,      8,     27,     64,    125,    216,    343,    512,\n",
       "          729,   1000,   1331,   1728,   2197,   2744,   3375,   4096,\n",
       "         4913,   5832,   6859,   8000,   9261,  10648,  12167,  13824,\n",
       "        15625,  17576,  19683,  21952,  24389,  27000,  29791,  32768,\n",
       "        35937,  39304,  42875,  46656,  50653,  54872,  59319,  64000,\n",
       "        68921,  74088,  79507,  85184,  91125,  97336, 103823, 110592,\n",
       "       117649, 125000, 132651, 140608, 148877, 157464, 166375, 175616,\n",
       "       185193, 195112, 205379, 216000, 226981, 238328, 250047, 262144,\n",
       "       274625, 287496, 300763, 314432, 328509, 343000, 357911, 373248,\n",
       "       389017, 405224, 421875, 438976, 456533, 474552, 493039, 512000,\n",
       "       531441, 551368, 571787, 592704, 614125, 636056, 658503, 681472,\n",
       "       704969, 729000, 753571, 778688, 804357, 830584, 857375, 884736,\n",
       "       912673, 941192, 970299])"
      ]
     },
     "execution_count": 5,
     "metadata": {},
     "output_type": "execute_result"
    }
   ],
   "source": [
    "numbers = np.power(list(range(1,100)),3)\n",
    "numbers"
   ]
  },
  {
   "cell_type": "markdown",
   "metadata": {},
   "source": [
    "### C"
   ]
  },
  {
   "cell_type": "code",
   "execution_count": 6,
   "metadata": {},
   "outputs": [
    {
     "data": {
      "text/plain": [
       "('Lars', 4, 'Per', 3, 'Henrik', 6)"
      ]
     },
     "execution_count": 6,
     "metadata": {},
     "output_type": "execute_result"
    }
   ],
   "source": [
    "names_2 = [\"Lars\", \"Per\", \"Henrik\"]\n",
    "names_tuple = tuple(x for name in names_2 for x in (name, len(name)))\n",
    "names_tuple"
   ]
  },
  {
   "cell_type": "markdown",
   "metadata": {},
   "source": [
    "### D"
   ]
  },
  {
   "cell_type": "code",
   "execution_count": 7,
   "metadata": {},
   "outputs": [
    {
     "data": {
      "text/plain": [
       "[23, 12]"
      ]
     },
     "execution_count": 7,
     "metadata": {},
     "output_type": "execute_result"
    }
   ],
   "source": [
    "string_example = \"23 katte gik 12 ture\"\n",
    "[int(s) for s in string_example.split() if s.isdigit()]"
   ]
  },
  {
   "cell_type": "markdown",
   "metadata": {},
   "source": [
    "### E"
   ]
  },
  {
   "cell_type": "code",
   "execution_count": 8,
   "metadata": {},
   "outputs": [
    {
     "data": {
      "text/plain": [
       "{(1, 1),\n",
       " (1, 2),\n",
       " (1, 3),\n",
       " (1, 4),\n",
       " (1, 5),\n",
       " (1, 6),\n",
       " (2, 1),\n",
       " (2, 2),\n",
       " (2, 3),\n",
       " (2, 4),\n",
       " (2, 5),\n",
       " (2, 6),\n",
       " (3, 1),\n",
       " (3, 2),\n",
       " (3, 3),\n",
       " (3, 4),\n",
       " (3, 5),\n",
       " (3, 6),\n",
       " (4, 1),\n",
       " (4, 2),\n",
       " (4, 3),\n",
       " (4, 4),\n",
       " (4, 5),\n",
       " (4, 6),\n",
       " (5, 1),\n",
       " (5, 2),\n",
       " (5, 3),\n",
       " (5, 4),\n",
       " (5, 5),\n",
       " (5, 6),\n",
       " (6, 1),\n",
       " (6, 2),\n",
       " (6, 3),\n",
       " (6, 4),\n",
       " (6, 5),\n",
       " (6, 6)}"
      ]
     },
     "execution_count": 8,
     "metadata": {},
     "output_type": "execute_result"
    }
   ],
   "source": [
    "roll_combinations = set([(d1, d2) for d1 in range(1, 7) for d2 in range(1, 7)])\n",
    "roll_combinations"
   ]
  },
  {
   "cell_type": "markdown",
   "metadata": {},
   "source": [
    "## Exercise 2 "
   ]
  },
  {
   "cell_type": "markdown",
   "metadata": {},
   "source": [
    "### A"
   ]
  },
  {
   "cell_type": "code",
   "execution_count": 9,
   "metadata": {},
   "outputs": [
    {
     "data": {
      "text/plain": [
       "{4: 'Lars', 3: 'Per', 6: 'Henrik'}"
      ]
     },
     "execution_count": 9,
     "metadata": {},
     "output_type": "execute_result"
    }
   ],
   "source": [
    "names_dict = dict([(len(name), name) for name in names_2])\n",
    "names_dict"
   ]
  },
  {
   "cell_type": "markdown",
   "metadata": {},
   "source": [
    "### B"
   ]
  },
  {
   "cell_type": "code",
   "execution_count": 15,
   "metadata": {},
   "outputs": [
    {
     "data": {
      "text/plain": [
       "{10: 3.1622776601683795,\n",
       " 20: 4.47213595499958,\n",
       " 30: 5.477225575051661,\n",
       " 40: 6.324555320336759}"
      ]
     },
     "execution_count": 15,
     "metadata": {},
     "output_type": "execute_result"
    }
   ],
   "source": [
    "some_numbers = list([10,20,30,40])\n",
    "numbers_dict = dict([(numbers, math.sqrt(numbers)) for numbers in some_numbers])\n",
    "numbers_dict"
   ]
  }
 ],
 "metadata": {
  "kernelspec": {
   "display_name": "Python 3",
   "language": "python",
   "name": "python3"
  },
  "language_info": {
   "codemirror_mode": {
    "name": "ipython",
    "version": 3
   },
   "file_extension": ".py",
   "mimetype": "text/x-python",
   "name": "python",
   "nbconvert_exporter": "python",
   "pygments_lexer": "ipython3",
   "version": "3.7.6"
  }
 },
 "nbformat": 4,
 "nbformat_minor": 4
}
