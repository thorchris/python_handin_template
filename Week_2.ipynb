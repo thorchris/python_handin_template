{
 "cells": [
  {
   "cell_type": "markdown",
   "metadata": {},
   "source": [
    "# Week 2 handin"
   ]
  },
  {
   "cell_type": "markdown",
   "metadata": {},
   "source": [
    "## Assignment\n",
    "\n",
    "#### Exercise 1\n",
    "Create a python file with 3 functions:\n",
    "def print_file_content(file) that can print content of a csv file to the console\n",
    "\n",
    "def write_list_to_file(output_file, lst) that can take a list of tuple and write each element to a new line in file\n",
    "\n",
    "rewrite the function so that it gets an arbitrary number of strings instead of a list\n",
    "\n",
    "def read_csv(input_file) that take a csv file and read each row into a list\n",
    "\n",
    "Add a functionality so that the file can be called from cli with 2 arguments\n",
    "path to csv file an argument --file file_name that if given will write the content to file_name or otherwise will print it to the console.\n",
    "\n",
    "Add a --help cli argument to describe how the module is used\n",
    "\n",
    "#### Exercise 2\n",
    "Create a module called utils.py with the following 5 functions:\n",
    "\n",
    "def get_file_names(folderpath,out=output.txt):\n",
    "    \"\"\" takes a path to a folder and writes all filenames in the folder to a specified output file\"\"\"\n",
    "\n",
    "def get_all_file_names(folderpath,out=output.txt):\n",
    "    \"\"\"takes a path to a folder and write all filenames recursively (files of all sub folders to)\"\"\"\n",
    "\n",
    "def print_line_one(file_names):\n",
    "    \"\"\"takes a list of filenames and print the first line of each\"\"\"\n",
    "\n",
    "def print_emails(file_names):\n",
    "    \"\"\"takes a list of filenames and print each line that contains an email (just look for @)\"\"\"\n",
    "\n",
    "def write_headlines(md_files, out=output.txt):\n",
    "    \"\"\"takes a list of md files and writes all headlines (lines starting with #) to a file\"\"\"\n",
    "    \n",
    "Make sure your module can be called both from cli and imported to another module Create a new module that imports utils.py and test each function."
   ]
  },
  {
   "cell_type": "markdown",
   "metadata": {},
   "source": [
    "## Status\n",
    "Exercise 1 done here - Exercise 2 under modules(halfly done, not quite sure about the cli part)"
   ]
  },
  {
   "cell_type": "markdown",
   "metadata": {},
   "source": [
    "## Exercise 1\n",
    "### Create a python file with 3 functions:"
   ]
  },
  {
   "cell_type": "markdown",
   "metadata": {},
   "source": [
    "### 1A\n",
    "def print_file_content(file) that can print content of a csv file to the console"
   ]
  },
  {
   "cell_type": "code",
   "execution_count": 8,
   "metadata": {},
   "outputs": [
    {
     "name": "stdout",
     "output_type": "stream",
     "text": [
      "test function 1B\n"
     ]
    }
   ],
   "source": [
    "import csv\n",
    "\n",
    "def print_content_file(file):\n",
    "    with open(file) as file_object:\n",
    "        reader = csv.reader(file_object)\n",
    "        for row in reader:\n",
    "            print(\" \".join(row))\n",
    "\n",
    "\n",
    "print_content_file(\"test.csv\")\n"
   ]
  },
  {
   "cell_type": "markdown",
   "metadata": {},
   "source": [
    "### 1B\n",
    "def write_list_to_file(output_file, lst) that can take a list of tuple and write each element to a new line in file"
   ]
  },
  {
   "cell_type": "code",
   "execution_count": 1,
   "metadata": {},
   "outputs": [
    {
     "name": "stdout",
     "output_type": "stream",
     "text": [
      "File created\n"
     ]
    }
   ],
   "source": [
    "import csv\n",
    "import platform\n",
    "\n",
    "\n",
    "if platform.system() == 'Windows':\n",
    "    newline=''\n",
    "else:\n",
    "    newline=None\n",
    "\n",
    "test = ((\"apple\",) , (\"banana\",) , (\"cherry\",))\n",
    "\n",
    "def write_list_to_file(output_file, lst):\n",
    "    with open(output_file, 'w', newline=newline) as f:\n",
    "     writer = csv.writer(f)\n",
    "     writer.writerows(lst)\n",
    "    print(\"File created\")\n",
    "    \n",
    "write_list_to_file(\"test.csv\", test)"
   ]
  },
  {
   "cell_type": "markdown",
   "metadata": {},
   "source": [
    "### 1B2\n",
    "rewrite the function so that it gets an arbitrary number of strings instead of a list"
   ]
  },
  {
   "cell_type": "code",
   "execution_count": 7,
   "metadata": {},
   "outputs": [
    {
     "name": "stdout",
     "output_type": "stream",
     "text": [
      "File created\n"
     ]
    }
   ],
   "source": [
    "import csv\n",
    "import platform\n",
    "\n",
    "\n",
    "if platform.system() == 'Windows':\n",
    "    newline=''\n",
    "else:\n",
    "    newline=None\n",
    "\n",
    "def write_list_to_file2(output_file, *text_to_file):\n",
    "    with open(output_file, 'w', newline=newline) as f:\n",
    "     writer = csv.writer(f)\n",
    "     writer.writerow(text_to_file)\n",
    "    print(\"File created\")\n",
    "    \n",
    "write_list_to_file2(\"test.csv\", \"test\", \"function\", \"1B\")"
   ]
  },
  {
   "cell_type": "markdown",
   "metadata": {},
   "source": [
    "### 1C\n",
    "def read_csv(input_file) that take a csv file and read each row into a list"
   ]
  },
  {
   "cell_type": "code",
   "execution_count": 3,
   "metadata": {},
   "outputs": [
    {
     "name": "stdout",
     "output_type": "stream",
     "text": [
      "[['apple'], ['banana'], ['cherry']]\n"
     ]
    }
   ],
   "source": [
    "import csv\n",
    "\n",
    "def read_csv(input_file):\n",
    "    with open(input_file, newline='') as f:\n",
    "        reader = csv.reader(f)\n",
    "        data = list(reader)\n",
    "        print(data)\n",
    "\n",
    "read_csv(\"test.csv\")"
   ]
  }
 ],
 "metadata": {
  "kernelspec": {
   "display_name": "Python 3",
   "language": "python",
   "name": "python3"
  },
  "language_info": {
   "codemirror_mode": {
    "name": "ipython",
    "version": 3
   },
   "file_extension": ".py",
   "mimetype": "text/x-python",
   "name": "python",
   "nbconvert_exporter": "python",
   "pygments_lexer": "ipython3",
   "version": "3.7.6"
  }
 },
 "nbformat": 4,
 "nbformat_minor": 4
}
