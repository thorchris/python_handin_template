{
 "cells": [
  {
   "cell_type": "markdown",
   "metadata": {},
   "source": [
    "# Week 3 handin"
   ]
  },
  {
   "cell_type": "markdown",
   "metadata": {},
   "source": [
    "## Ex 1 Classes\n",
    "\n",
    "1 - Create 3 classes: Student, DataSheet and Course\n",
    "\n",
    "2 - A student has a data_sheet and a data_sheet has multiple courses in particular order\n",
    "\n",
    "3 - Each course has name, classroom, teacher, ETCS and optional grade if course is taken.\n",
    "\n",
    "4 - In Student create init() so that a Student can be initiated with name, gender, data_sheet and image_url\n",
    "\n",
    "5 - In DataSheet create a method to get_grades_as_list()\n",
    "\n",
    "6 - In student create a method: get_avg_grade()\n",
    "\n",
    "7 - Create a function that can generate n number of students with random: name, gender, courses (from a fixed list of course names), grades, img_url\n",
    "    A - Let the function write the result to a csv file with format stud_name, course_name, teacher, ects, classroom, grade,    img_url\n",
    "    \n",
    "8 - Read student data into a list of Students from a csv file:\n",
    "    A - loop through the list and print each student with name, img_url and avg_grade.\n",
    "    B - sort the list by avg_grade\n",
    "    C - create a bar chart with student_name on x and avg_grade on y-axis\n",
    "    \n",
    "9 - Make a method on Student class that can show progression of the study in % (add up ECTS from all passed courses divided by total of 150 total points (equivalent to 5 semesters))\n",
    "\n",
    "10 - Show a bar chart of distribution of study progression on x-axis and number of students in each category on y-axis. (e.g. make 10 categories from 0-100%)\n",
    "Extra: Make the Datasheet class iterable so that next(data_sheet) will return the next course in the list"
   ]
  },
  {
   "cell_type": "markdown",
   "metadata": {},
   "source": [
    "## 02 Status\n",
    "This exercise seemed pretty hard for me atleast, done until assignemnt 8, however i find this quite confusing"
   ]
  },
  {
   "cell_type": "markdown",
   "metadata": {},
   "source": [
    "## Ex 1 Classes"
   ]
  },
  {
   "cell_type": "code",
   "execution_count": 8,
   "metadata": {},
   "outputs": [],
   "source": [
    "import random\n",
    "import csv\n",
    "import platform\n",
    "import matplotlib as plt"
   ]
  },
  {
   "cell_type": "code",
   "execution_count": 101,
   "metadata": {},
   "outputs": [],
   "source": [
    "class Student():\n",
    "    \"\"\"In Student create init() so that a Student can be initiated with name, gender, data_sheet and image_url\"\"\"\n",
    "    def __init__(self, name, gender, data_sheet, image_url):\n",
    "        self.name = name\n",
    "        self.gender = gender\n",
    "        self.data_sheet = data_sheet\n",
    "        self.image_url = image_url\n",
    "        \n",
    "    def __repr__(self):\n",
    "        return '%r, %r, %r, %r' % (self.name, self.gender, self.data_sheet, self.image_url)\n",
    "            \n",
    "    def get_avg_grade(self):\n",
    "        \"\"\"In student create a method: get_avg_grade()\"\"\"\n",
    "        grades = self.data_sheet.get_grades_as_list()\n",
    "        return (sum(grades) / len(grades))\n",
    "        \n",
    "    "
   ]
  },
  {
   "cell_type": "code",
   "execution_count": 87,
   "metadata": {},
   "outputs": [],
   "source": [
    "class DataSheet():\n",
    "    def __init__(self, courses=[]):\n",
    "        self.courses = courses\n",
    "        \n",
    "    def __repr__(self):\n",
    "        return '(%r)' % (self.courses) \n",
    "    \n",
    "    def get_grade_as_list(self):\n",
    "        \"\"\"In DataSheet create a method to get_grades_as_list()\"\"\"\n",
    "        grade_list = []\n",
    "        for n in self.courses:\n",
    "            grade_list.append(n.grade)\n",
    "            return grade_list"
   ]
  },
  {
   "cell_type": "code",
   "execution_count": 86,
   "metadata": {},
   "outputs": [],
   "source": [
    "class Course():\n",
    "    def __init__(self, name, classroom, teacher, ETCS, grade):\n",
    "        self.name = name\n",
    "        self.classroom = classroom\n",
    "        self.teacher = teacher \n",
    "        self.ETCS = ETCS \n",
    "        self.grade = grade\n",
    "        \n",
    "    def __repr__(self):\n",
    "        return '(%r, %r, %r, %r, %r)' % (self.name, self.classroom, self.teacher, self.ETCS, self.grade)\n",
    "        "
   ]
  },
  {
   "cell_type": "code",
   "execution_count": 82,
   "metadata": {
    "scrolled": true
   },
   "outputs": [],
   "source": [
    "\"\"\"\n",
    "Create a function that can generate n number of students with random:\n",
    "name, gender, courses (from a fixed list of course names), grades, img_url\n",
    "A - Let the function write the result to a csv file with format:\n",
    "stud_name, course_name, teacher, ects, classroom, grade,img_url\n",
    "\"\"\"\n",
    "\n",
    "\n",
    "def gen_students(n):\n",
    "    c1 = Course('Javascript', 'Zoom', 'Lars', 10, 4)\n",
    "    c2 = Course('Python', 'Zoom', 'Thomas', 10, 2)\n",
    "    c3 = Course('Security', 'Zoom', 'Daniel', 10, 10)\n",
    "    \n",
    "    names = ['Bent', 'Gert', 'Bjarne', 'Ole', 'Morten']\n",
    "    genders = ['Male', 'Female', 'Unknown']\n",
    "    courses = [c1, c2, c3]\n",
    "    img_url = \"Img\"\n",
    "    students_list = []\n",
    "    \n",
    "    for idx, val in enumerate(range(0, n)):\n",
    "        student_courses = []\n",
    "        name = random.choice(names)\n",
    "        gender = random.choice(genders)\n",
    "        student_courses.append(random.choice(courses))\n",
    "        data_sheet = DataSheet(student_courses)\n",
    "        student = Student(name, gender, data_sheet, img_url)\n",
    "        students_list.append(student)\n",
    "\n",
    "    \n",
    "    csv.register_dialect('myDialect', delimiter=',')\n",
    "    \n",
    "    with open('students.csv', 'w', newline=newline) as student_file:\n",
    "        student_writer = csv.writer(student_file)\n",
    "        for s in students_list:\n",
    "            course1 = s.data_sheet.courses[0]\n",
    "            student_writer.writerow([s.name, s.gender, course1.name, course1.teacher, course1.ETCS, course1.classroom, course1.grade, s.image_url])"
   ]
  },
  {
   "cell_type": "code",
   "execution_count": 102,
   "metadata": {},
   "outputs": [
    {
     "name": "stdout",
     "output_type": "stream",
     "text": [
      "'Bjarne', 'Female', ('Python'), 'Thomas'\n",
      "'Bent', 'Male', ('Javascript'), 'Lars'\n",
      "'Bent', 'Male', ('Security'), 'Daniel'\n",
      "'Ole', 'Male', ('Python'), 'Thomas'\n"
     ]
    }
   ],
   "source": [
    "\"\"\"\n",
    "Read student data into a list of Students from a csv file:\n",
    "A - loop through the list and print each student with name, img_url and avg_grade. \n",
    "B - sort the list by avg_grade \n",
    "C - create a bar chart with student_name on x and avg_grade on y-axis\n",
    "\"\"\"\n",
    "def read_csv(input_file):\n",
    "    students = []\n",
    "    with open(input_file) as f:\n",
    "        reader = csv.reader(f)\n",
    "        header = next(reader)\n",
    "        for lines in reader:\n",
    "            name = lines[0]\n",
    "            gender = lines[1]\n",
    "            data_sheet = lines[2]\n",
    "            img_url = lines[3]\n",
    "            s = Student(name, gender, DataSheet(data_sheet), img_url)\n",
    "            students.append(s)\n",
    "            \n",
    "    return students\n",
    "\n",
    "lst = read_csv(\"students.csv\")\n",
    "\n",
    "for Student in lst:\n",
    "    print(Student)\n",
    "\n"
   ]
  }
 ],
 "metadata": {
  "kernelspec": {
   "display_name": "Python 3",
   "language": "python",
   "name": "python3"
  },
  "language_info": {
   "codemirror_mode": {
    "name": "ipython",
    "version": 3
   },
   "file_extension": ".py",
   "mimetype": "text/x-python",
   "name": "python",
   "nbconvert_exporter": "python",
   "pygments_lexer": "ipython3",
   "version": "3.7.6"
  }
 },
 "nbformat": 4,
 "nbformat_minor": 4
}
