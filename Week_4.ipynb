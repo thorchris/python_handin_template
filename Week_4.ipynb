{
 "cells": [
  {
   "cell_type": "markdown",
   "metadata": {},
   "source": [
    "# Week 4 handin"
   ]
  },
  {
   "cell_type": "markdown",
   "metadata": {},
   "source": [
    "## 01 Assignment"
   ]
  },
  {
   "cell_type": "markdown",
   "metadata": {},
   "source": [
    "### Exercise 1\n",
    "1 - Open the file './data/befkbhalderstatkode.csv'\n",
    "\n",
    "2- Turn the csv file into a numpy ndarray with np.genfromtxt(filename, delimiter=',', dtype=np.uint, skip_header=1)\n",
    "\n",
    "3 - Using this data:\n",
    "neighb = {1: 'Indre By', 2: 'Østerbro', 3: 'Nørrebro', 4: 'Vesterbro/Kgs. Enghave', \n",
    "       5: 'Valby', 6: 'Vanløse', 7: 'Brønshøj-Husum', 8: 'Bispebjerg', 9: 'Amager Øst', \n",
    "       10: 'Amager Vest', 99: 'Udenfor'}\n",
    "       \n",
    "Find out how many people lived in each of the 11 areas in 2015\n",
    "\n",
    "4 - Make a bar plot to show the size of each city area from the smallest to the largest\n",
    "\n",
    "5 - Create a boolean mask to find out how many people above 65 years lived in Copenhagen in 2015\n",
    "\n",
    "6 - How many of those were from the other nordic countries (not dk). Hint: see notebook: \"04 Numpy\"\n",
    "\n",
    "7 - Make a line plot showing the changes of number of people in vesterbro and østerbro from 1992 to 2015"
   ]
  },
  {
   "cell_type": "markdown",
   "metadata": {},
   "source": [
    "## 02 Status"
   ]
  },
  {
   "cell_type": "markdown",
   "metadata": {},
   "source": [
    "Exercise 1 done"
   ]
  },
  {
   "cell_type": "markdown",
   "metadata": {},
   "source": [
    "## Exercise 1"
   ]
  },
  {
   "cell_type": "code",
   "execution_count": 52,
   "metadata": {},
   "outputs": [],
   "source": [
    "import numpy as np\n",
    "import matplotlib.pyplot as plt"
   ]
  },
  {
   "cell_type": "code",
   "execution_count": 8,
   "metadata": {},
   "outputs": [
    {
     "name": "stdout",
     "output_type": "stream",
     "text": [
      "first line:\n",
      " [2015    1    0 5100  614] \n",
      "last line\n",
      " [1992   99   93 5100    1]\n"
     ]
    }
   ],
   "source": [
    "#Open the file './data/befkbhalderstatkode.csv'\n",
    "\n",
    "filename = '../data/befkbhalderstatkode.csv'\n",
    "\n",
    "filedata = np.genfromtxt(filename, delimiter=',', dtype=np.uint, skip_header=1)\n",
    "\n",
    "print('first line:\\n',filedata[0],'\\nlast line\\n',filedata[len(filedata)-1])"
   ]
  },
  {
   "cell_type": "code",
   "execution_count": 100,
   "metadata": {
    "scrolled": true
   },
   "outputs": [
    {
     "name": "stdout",
     "output_type": "stream",
     "text": [
      "[51937 75113 78802 61623 51727 39537 43908 53604 55205 64967  3872]\n"
     ]
    }
   ],
   "source": [
    "#Find out how many people lived in each of the 11 areas in 2015\n",
    "# AAR,BYDEL,ALDER,STATKODE,PERSONER \n",
    "\n",
    "neighb = {1: 'Indre By', 2: 'Østerbro', 3: 'Nørrebro', 4: 'Vesterbro/Kgs. Enghave',5: 'Valby', 6: 'Vanløse',\n",
    "          7: 'Brønshøj-Husum', 8: 'Bispebjerg', 9: 'Amager Øst', 10: 'Amager Vest', 99: 'Udenfor'}\n",
    "\n",
    "dd = filedata\n",
    "   \n",
    "mask_year = (dd[:,0] == 2015)\n",
    "\n",
    "def number_of_people_per_neighbourhood(n, mask):\n",
    "    all_people_in_given_n = dd[mask & (dd[:,1] == n)]\n",
    "    sum_of_people = all_people_in_given_n[:,4].sum()\n",
    "    return sum_of_people\n",
    "\n",
    "result = np.array([number_of_people_per_neighbourhood(n, mask_year) for n in neighb.keys()])\n",
    "\n",
    "#Cant get zip function to work\n",
    "#zip_function = zip(neighb.values(), result)\n",
    "#print(f'{zip_function} lived in each area in 2015')\n",
    "\n",
    "\n",
    "print(result)"
   ]
  },
  {
   "cell_type": "code",
   "execution_count": 62,
   "metadata": {
    "scrolled": true
   },
   "outputs": [
    {
     "data": {
      "text/plain": [
       "([0, 1, 2, 3, 4, 5, 6, 7, 8, 9, 10],\n",
       " <a list of 11 Text major ticklabel objects>)"
      ]
     },
     "execution_count": 62,
     "metadata": {},
     "output_type": "execute_result"
    },
    {
     "data": {
      "image/png": "[encoded data removed]",
      "text/plain": [
       "<Figure size 432x288 with 1 Axes>"
      ]
     },
     "metadata": {
      "needs_background": "light"
     },
     "output_type": "display_data"
    }
   ],
   "source": [
    "#5 Make a bar plot to show the size of each city area from the smallest to the largest\n",
    "# AAR,BYDEL,ALDER,STATKODE,PERSONER \n",
    "\n",
    "number_of_people = []\n",
    "for n in neighb.keys():\n",
    "        number_of_people.append(find_people(n))\n",
    "cities = list(neighb.values()) \n",
    "\n",
    "\n",
    "plt.bar(cities, number_of_people, align='center')\n",
    "\n",
    "plt.title(\"Bar chart\", fontsize=16)\n",
    "plt.xlabel(\"Cities\", fontsize=14)\n",
    "plt.ylabel(\"Amount of people\", fontsize=14)\n",
    "\n",
    "plt.xticks(rotation=45, horizontalalignment='right',fontweight='light')"
   ]
  },
  {
   "cell_type": "code",
   "execution_count": 70,
   "metadata": {},
   "outputs": [
    {
     "name": "stdout",
     "output_type": "stream",
     "text": [
      "29203 are above 65 years old in 2015\n"
     ]
    }
   ],
   "source": [
    "#Create a boolean mask to find out how many people above 65 years lived in Copenhagen in 2015\n",
    "# AAR,BYDEL,ALDER,STATKODE,PERSONER\n",
    "\n",
    "age_year_mask = (dd[:,0] == 2015) & (dd[:,2] > 65 & (dd[:,3]  == 5100))\n",
    "result = sum(age_year_mask)\n",
    "\n",
    "print(f'{result} are above 65 years old in 2015')"
   ]
  },
  {
   "cell_type": "code",
   "execution_count": 78,
   "metadata": {},
   "outputs": [
    {
     "name": "stdout",
     "output_type": "stream",
     "text": [
      "2249 people above 65 are from other nordic counties\n"
     ]
    }
   ],
   "source": [
    "#How many of those were from the other nordic countries (not dk). Hint: see notebook: \"04 Numpy\"\n",
    "age_year_notdk_mask = (dd[:,0] == 2015) & (dd[:,2] > 65) & (dd[:,3] != 5100)\n",
    "result2 = sum(age_year_notdk_mask)\n",
    "\n",
    "print(f'{result2} people above 65 are from other nordic counties')"
   ]
  },
  {
   "cell_type": "code",
   "execution_count": 83,
   "metadata": {},
   "outputs": [
    {
     "data": {
      "text/plain": [
       "Text(0, 0.5, 'People')"
      ]
     },
     "execution_count": 83,
     "metadata": {},
     "output_type": "execute_result"
    },
    {
     "data": {
      "image/png": "[encoded data removed]",
      "text/plain": [
       "<Figure size 432x288 with 1 Axes>"
      ]
     },
     "metadata": {
      "needs_background": "light"
     },
     "output_type": "display_data"
    }
   ],
   "source": [
    "#Make a line plot showing the changes of number of people in vesterbro and østerbro from 1992 to 2015\n",
    "# AAR,BYDEL,ALDER,STATKODE,PERSONER \n",
    "\n",
    "years = range(1992, 2016)\n",
    "\n",
    "def number_of_people_per_neighbourhood(n, mask):\n",
    "    all_people_in_given_n = dd[mask & (dd[:,1] == n)]\n",
    "    sum_of_people = all_people_in_given_n[:,4].sum()\n",
    "    return sum_of_people\n",
    "\n",
    "v = []\n",
    "ø = []\n",
    "\n",
    "\n",
    "for y in years:\n",
    "    mask = (dd[:,0] == y)\n",
    "    v.append(number_of_people_per_neighbourhood(2, mask)) #Østerbro\n",
    "    ø.append(number_of_people_per_neighbourhood(4, mask)) #Vesterbro\n",
    "\n",
    "plt.plot(years, v)\n",
    "plt.plot(years, ø)\n",
    "plt.xlabel('Year')\n",
    "plt.ylabel('People')"
   ]
  }
 ],
 "metadata": {
  "kernelspec": {
   "display_name": "Python 3",
   "language": "python",
   "name": "python3"
  },
  "language_info": {
   "codemirror_mode": {
    "name": "ipython",
    "version": 3
   },
   "file_extension": ".py",
   "mimetype": "text/x-python",
   "name": "python",
   "nbconvert_exporter": "python",
   "pygments_lexer": "ipython3",
   "version": "3.7.6"
  }
 },
 "nbformat": 4,
 "nbformat_minor": 4
}
