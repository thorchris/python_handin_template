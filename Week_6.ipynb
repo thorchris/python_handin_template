{
 "cells": [
  {
   "cell_type": "markdown",
   "metadata": {},
   "source": [
    "# Week 6 handin"
   ]
  },
  {
   "cell_type": "markdown",
   "metadata": {},
   "source": [
    "## 01 Assignment"
   ]
  },
  {
   "cell_type": "markdown",
   "metadata": {},
   "source": [
    "# Handin Exercise 6\n",
    "\n",
    "### Ex 1\n",
    "Create a module containing a class: TextComparer with the following methods:\n",
    "1. __init__(self, url_list)\n",
    "2. download(url,filename) raises NotFoundException when url returns 404\n",
    "3. multi_download() uses threads to download multiple urls as text and stores filenames as a property\n",
    "4. __iter__() returns an iterator\n",
    "5. __next__() returns the next filename (and stops when there are no more)\n",
    "6. urllist_generator() returns a generator to loop through the urls\n",
    "7. avg_vowels(text) - a rough estimate on readability returns average number of vowels in the words of the text\n",
    "8. hardest_read() returns the filename of the text with the highest vowel score (use all the cpu cores on the computer for this work.\n",
    "\n",
    "### Ex 2\n",
    "Create a notebook and import your module from above\n",
    "1. Find 10 books on https://www.gutenberg.org/browse/scores/top and download them using an object of the class you just created before\n",
    "2. Test the different methods of your class\n",
    "3. Make a bar plot with a sorted list of books on x-axis and avg vowels on y-axis"
   ]
  },
  {
   "cell_type": "markdown",
   "metadata": {},
   "source": [
    "## 02 Status"
   ]
  },
  {
   "cell_type": "markdown",
   "metadata": {},
   "source": [
    "Done with all exercises"
   ]
  },
  {
   "cell_type": "markdown",
   "metadata": {},
   "source": [
    "## Exercise 1"
   ]
  },
  {
   "cell_type": "markdown",
   "metadata": {},
   "source": [
    "Exercise 1 - Create a module containing a class: TextComparer with the following methods: To be found under modules/week6"
   ]
  },
  {
   "cell_type": "markdown",
   "metadata": {},
   "source": [
    "## Exercise 2"
   ]
  },
  {
   "cell_type": "code",
   "execution_count": 1,
   "metadata": {},
   "outputs": [],
   "source": [
    "#Imports\n",
    "import matplotlib.pyplot as plt\n",
    "%matplotlib inline"
   ]
  },
  {
   "cell_type": "code",
   "execution_count": 2,
   "metadata": {},
   "outputs": [],
   "source": [
    "#Create a notebook and import your module from above\n",
    "from modules.Week6 import text_comparerv2 as tc\n",
    "\n",
    "# 1. Find 10 books on https://www.gutenberg.org/browse/scores/top\n",
    "# and download them using an object of the class you just created before\n",
    "\n",
    "books = ['https://www.gutenberg.org/files/84/84-0.txt',\n",
    "         'https://www.gutenberg.org/files/1342/1342-0.txt',\n",
    "         'https://www.gutenberg.org/files/64317/64317-0.txt',\n",
    "         'https://www.gutenberg.org/files/1080/1080-0.txt',\n",
    "         'https://www.gutenberg.org/files/2542/2542-0.txt',\n",
    "         'https://www.gutenberg.org/files/98/98-0.txt',\n",
    "         'https://www.gutenberg.org/files/98/98-0.txt',\n",
    "         'https://www.gutenberg.org/files/844/844-0.txt',\n",
    "         'https://www.gutenberg.org/files/25344/25344-0.txt',\n",
    "         'https://www.gutenberg.org/cache/epub/5200/pg5200.txt']\n",
    "\n",
    "# 2. Test the different methods of your class\n",
    "\n",
    "textcomparer = tc.TextComparer(books)"
   ]
  },
  {
   "cell_type": "code",
   "execution_count": 14,
   "metadata": {
    "scrolled": false
   },
   "outputs": [
    {
     "name": "stdout",
     "output_type": "stream",
     "text": [
      "download started\n",
      "downloading:  https://www.gutenberg.org/files/84/84-0.txt\n",
      "downloading:  https://www.gutenberg.org/files/1342/1342-0.txt\n",
      "downloading:  https://www.gutenberg.org/files/64317/64317-0.txt\n",
      "downloading:  https://www.gutenberg.org/files/1080/1080-0.txt\n",
      "downloading:  https://www.gutenberg.org/files/2542/2542-0.txt\n",
      "downloading:  https://www.gutenberg.org/files/98/98-0.txt\n",
      "downloading:  https://www.gutenberg.org/files/98/98-0.txt\n",
      "downloading:  https://www.gutenberg.org/files/844/844-0.txt\n",
      "downloading:  https://www.gutenberg.org/files/25344/25344-0.txt\n",
      "downloading:  https://www.gutenberg.org/cache/epub/5200/pg5200.txt\n"
     ]
    }
   ],
   "source": [
    "## Multidownload\n",
    "textcomparer.multidownload()"
   ]
  },
  {
   "cell_type": "code",
   "execution_count": 4,
   "metadata": {
    "scrolled": true
   },
   "outputs": [
    {
     "name": "stdout",
     "output_type": "stream",
     "text": [
      "downloading:  https://www.gutenberg.org/files/84/84-0.txt\n"
     ]
    }
   ],
   "source": [
    "# Single download:\n",
    "textcomparer.download('https://www.gutenberg.org/files/84/84-0.txt', 'testbog')"
   ]
  },
  {
   "cell_type": "code",
   "execution_count": 5,
   "metadata": {
    "scrolled": true
   },
   "outputs": [
    {
     "data": {
      "text/plain": [
       "['https://www.gutenberg.org/files/84/84-0.txt',\n",
       " 'https://www.gutenberg.org/files/1342/1342-0.txt',\n",
       " 'https://www.gutenberg.org/files/64317/64317-0.txt',\n",
       " 'https://www.gutenberg.org/files/1080/1080-0.txt',\n",
       " 'https://www.gutenberg.org/files/2542/2542-0.txt',\n",
       " 'https://www.gutenberg.org/files/98/98-0.txt',\n",
       " 'https://www.gutenberg.org/files/98/98-0.txt',\n",
       " 'https://www.gutenberg.org/files/844/844-0.txt',\n",
       " 'https://www.gutenberg.org/files/25344/25344-0.txt',\n",
       " 'https://www.gutenberg.org/cache/epub/5200/pg5200.txt']"
      ]
     },
     "execution_count": 5,
     "metadata": {},
     "output_type": "execute_result"
    }
   ],
   "source": [
    "#urllist_generator\n",
    "[x for x in textcomparer.urllist_generator()]"
   ]
  },
  {
   "cell_type": "code",
   "execution_count": 6,
   "metadata": {},
   "outputs": [
    {
     "name": "stdout",
     "output_type": "stream",
     "text": [
      "<modules.Week6.text_comparerv2.TextComparer object at 0x7f29776e7550>\n",
      "modules/Week6/books/bog0.txt\n"
     ]
    }
   ],
   "source": [
    "#iter\n",
    "print(iter(textcomparer))\n",
    "\n",
    "#next\n",
    "print(next(textcomparer))"
   ]
  },
  {
   "cell_type": "code",
   "execution_count": 7,
   "metadata": {
    "scrolled": false
   },
   "outputs": [
    {
     "data": {
      "text/plain": [
       "133109"
      ]
     },
     "execution_count": 7,
     "metadata": {},
     "output_type": "execute_result"
    }
   ],
   "source": [
    "#avg_vowels\n",
    "textcomparer.avg_vowels('modules/Week6/books/bog0.txt')"
   ]
  },
  {
   "cell_type": "code",
   "execution_count": 8,
   "metadata": {
    "scrolled": true
   },
   "outputs": [
    {
     "data": {
      "text/plain": [
       "{'modules/Week6/books/bog5.txt': 227498,\n",
       " 'modules/Week6/books/bog6.txt': 227498,\n",
       " 'modules/Week6/books/bog1.txt': 209927,\n",
       " 'modules/Week6/books/bog8.txt': 150280,\n",
       " 'modules/Week6/books/bog0.txt': 133109,\n",
       " 'modules/Week6/books/bog2.txt': 84055,\n",
       " 'modules/Week6/books/bog4.txt': 46756,\n",
       " 'modules/Week6/books/bog9.txt': 40797,\n",
       " 'modules/Week6/books/bog7.txt': 40245,\n",
       " 'modules/Week6/books/bog3.txt': 11782}"
      ]
     },
     "execution_count": 8,
     "metadata": {},
     "output_type": "execute_result"
    }
   ],
   "source": [
    "#hardest_read\n",
    "textcomparer.hardest_read()"
   ]
  },
  {
   "cell_type": "code",
   "execution_count": 13,
   "metadata": {},
   "outputs": [
    {
     "data": {
      "text/plain": [
       "<BarContainer object of 10 artists>"
      ]
     },
     "execution_count": 13,
     "metadata": {},
     "output_type": "execute_result"
    },
    {
     "data": {
      "image/png": "[encoded data removed]",
      "text/plain": [
       "<Figure size 432x288 with 1 Axes>"
      ]
     },
     "metadata": {
      "needs_background": "light"
     },
     "output_type": "display_data"
    }
   ],
   "source": [
    "## 3. Make a bar plot with a sorted list of books on x-axis and avg vowels on y-axis\n",
    "data_for_bar = textcomparer.hardest_read()\n",
    "\n",
    "x = data_for_bar.keys()\n",
    "y = data_for_bar.values()\n",
    "\n",
    "plt.xticks(rotation=90)\n",
    "\n",
    "plt.title(\"Average Vowels in books\")\n",
    "plt.xlabel(\"Books\")\n",
    "plt.ylabel(\"Avg vowels\")\n",
    "\n",
    "plt.bar(x,y)"
   ]
  }
 ],
 "metadata": {
  "kernelspec": {
   "display_name": "Python 3",
   "language": "python",
   "name": "python3"
  },
  "language_info": {
   "codemirror_mode": {
    "name": "ipython",
    "version": 3
   },
   "file_extension": ".py",
   "mimetype": "text/x-python",
   "name": "python",
   "nbconvert_exporter": "python",
   "pygments_lexer": "ipython3",
   "version": "3.7.6"
  }
 },
 "nbformat": 4,
 "nbformat_minor": 4
}
